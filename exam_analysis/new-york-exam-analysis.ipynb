{
 "cells": [
  {
   "cell_type": "markdown",
   "metadata": {},
   "source": [
    "Purpose: Examination of the various factors in regards to New York City examination scores for fundamental learning areas."
   ]
  },
  {
   "cell_type": "markdown",
   "metadata": {},
   "source": [
    "Step 1: Import/Examination of Data"
   ]
  },
  {
   "cell_type": "code",
   "execution_count": 7,
   "metadata": {},
   "outputs": [],
   "source": [
    "import pandas as pd\n",
    "data = pd.read_csv(\"StudentsPerformance.csv\")"
   ]
  },
  {
   "cell_type": "code",
   "execution_count": 11,
   "metadata": {},
   "outputs": [
    {
     "data": {
      "text/html": [
       "<div>\n",
       "<style scoped>\n",
       "    .dataframe tbody tr th:only-of-type {\n",
       "        vertical-align: middle;\n",
       "    }\n",
       "\n",
       "    .dataframe tbody tr th {\n",
       "        vertical-align: top;\n",
       "    }\n",
       "\n",
       "    .dataframe thead th {\n",
       "        text-align: right;\n",
       "    }\n",
       "</style>\n",
       "<table border=\"1\" class=\"dataframe\">\n",
       "  <thead>\n",
       "    <tr style=\"text-align: right;\">\n",
       "      <th></th>\n",
       "      <th>gender</th>\n",
       "      <th>race/ethnicity</th>\n",
       "      <th>parental level of education</th>\n",
       "      <th>lunch</th>\n",
       "      <th>test preparation course</th>\n",
       "      <th>math score</th>\n",
       "      <th>reading score</th>\n",
       "      <th>writing score</th>\n",
       "    </tr>\n",
       "  </thead>\n",
       "  <tbody>\n",
       "    <tr>\n",
       "      <th>0</th>\n",
       "      <td>female</td>\n",
       "      <td>group B</td>\n",
       "      <td>bachelor's degree</td>\n",
       "      <td>standard</td>\n",
       "      <td>none</td>\n",
       "      <td>72</td>\n",
       "      <td>72</td>\n",
       "      <td>74</td>\n",
       "    </tr>\n",
       "    <tr>\n",
       "      <th>1</th>\n",
       "      <td>female</td>\n",
       "      <td>group C</td>\n",
       "      <td>some college</td>\n",
       "      <td>standard</td>\n",
       "      <td>completed</td>\n",
       "      <td>69</td>\n",
       "      <td>90</td>\n",
       "      <td>88</td>\n",
       "    </tr>\n",
       "    <tr>\n",
       "      <th>2</th>\n",
       "      <td>female</td>\n",
       "      <td>group B</td>\n",
       "      <td>master's degree</td>\n",
       "      <td>standard</td>\n",
       "      <td>none</td>\n",
       "      <td>90</td>\n",
       "      <td>95</td>\n",
       "      <td>93</td>\n",
       "    </tr>\n",
       "    <tr>\n",
       "      <th>3</th>\n",
       "      <td>male</td>\n",
       "      <td>group A</td>\n",
       "      <td>associate's degree</td>\n",
       "      <td>free/reduced</td>\n",
       "      <td>none</td>\n",
       "      <td>47</td>\n",
       "      <td>57</td>\n",
       "      <td>44</td>\n",
       "    </tr>\n",
       "    <tr>\n",
       "      <th>4</th>\n",
       "      <td>male</td>\n",
       "      <td>group C</td>\n",
       "      <td>some college</td>\n",
       "      <td>standard</td>\n",
       "      <td>none</td>\n",
       "      <td>76</td>\n",
       "      <td>78</td>\n",
       "      <td>75</td>\n",
       "    </tr>\n",
       "  </tbody>\n",
       "</table>\n",
       "</div>"
      ],
      "text/plain": [
       "   gender race/ethnicity parental level of education         lunch  \\\n",
       "0  female        group B           bachelor's degree      standard   \n",
       "1  female        group C                some college      standard   \n",
       "2  female        group B             master's degree      standard   \n",
       "3    male        group A          associate's degree  free/reduced   \n",
       "4    male        group C                some college      standard   \n",
       "\n",
       "  test preparation course  math score  reading score  writing score  \n",
       "0                    none          72             72             74  \n",
       "1               completed          69             90             88  \n",
       "2                    none          90             95             93  \n",
       "3                    none          47             57             44  \n",
       "4                    none          76             78             75  "
      ]
     },
     "execution_count": 11,
     "metadata": {},
     "output_type": "execute_result"
    }
   ],
   "source": [
    "data.head()"
   ]
  },
  {
   "cell_type": "code",
   "execution_count": 50,
   "metadata": {},
   "outputs": [
    {
     "data": {
      "text/html": [
       "<div>\n",
       "<style scoped>\n",
       "    .dataframe tbody tr th:only-of-type {\n",
       "        vertical-align: middle;\n",
       "    }\n",
       "\n",
       "    .dataframe tbody tr th {\n",
       "        vertical-align: top;\n",
       "    }\n",
       "\n",
       "    .dataframe thead th {\n",
       "        text-align: right;\n",
       "    }\n",
       "</style>\n",
       "<table border=\"1\" class=\"dataframe\">\n",
       "  <thead>\n",
       "    <tr style=\"text-align: right;\">\n",
       "      <th></th>\n",
       "      <th>math score</th>\n",
       "      <th>reading score</th>\n",
       "      <th>writing score</th>\n",
       "      <th>combined_score</th>\n",
       "    </tr>\n",
       "  </thead>\n",
       "  <tbody>\n",
       "    <tr>\n",
       "      <th>count</th>\n",
       "      <td>1000.00000</td>\n",
       "      <td>1000.000000</td>\n",
       "      <td>1000.000000</td>\n",
       "      <td>1000.000000</td>\n",
       "    </tr>\n",
       "    <tr>\n",
       "      <th>mean</th>\n",
       "      <td>66.08900</td>\n",
       "      <td>69.169000</td>\n",
       "      <td>68.054000</td>\n",
       "      <td>67.770667</td>\n",
       "    </tr>\n",
       "    <tr>\n",
       "      <th>std</th>\n",
       "      <td>15.16308</td>\n",
       "      <td>14.600192</td>\n",
       "      <td>15.195657</td>\n",
       "      <td>14.257326</td>\n",
       "    </tr>\n",
       "    <tr>\n",
       "      <th>min</th>\n",
       "      <td>0.00000</td>\n",
       "      <td>17.000000</td>\n",
       "      <td>10.000000</td>\n",
       "      <td>9.000000</td>\n",
       "    </tr>\n",
       "    <tr>\n",
       "      <th>25%</th>\n",
       "      <td>57.00000</td>\n",
       "      <td>59.000000</td>\n",
       "      <td>57.750000</td>\n",
       "      <td>58.333333</td>\n",
       "    </tr>\n",
       "    <tr>\n",
       "      <th>50%</th>\n",
       "      <td>66.00000</td>\n",
       "      <td>70.000000</td>\n",
       "      <td>69.000000</td>\n",
       "      <td>68.333333</td>\n",
       "    </tr>\n",
       "    <tr>\n",
       "      <th>75%</th>\n",
       "      <td>77.00000</td>\n",
       "      <td>79.000000</td>\n",
       "      <td>79.000000</td>\n",
       "      <td>77.666667</td>\n",
       "    </tr>\n",
       "    <tr>\n",
       "      <th>max</th>\n",
       "      <td>100.00000</td>\n",
       "      <td>100.000000</td>\n",
       "      <td>100.000000</td>\n",
       "      <td>100.000000</td>\n",
       "    </tr>\n",
       "  </tbody>\n",
       "</table>\n",
       "</div>"
      ],
      "text/plain": [
       "       math score  reading score  writing score  combined_score\n",
       "count  1000.00000    1000.000000    1000.000000     1000.000000\n",
       "mean     66.08900      69.169000      68.054000       67.770667\n",
       "std      15.16308      14.600192      15.195657       14.257326\n",
       "min       0.00000      17.000000      10.000000        9.000000\n",
       "25%      57.00000      59.000000      57.750000       58.333333\n",
       "50%      66.00000      70.000000      69.000000       68.333333\n",
       "75%      77.00000      79.000000      79.000000       77.666667\n",
       "max     100.00000     100.000000     100.000000      100.000000"
      ]
     },
     "execution_count": 50,
     "metadata": {},
     "output_type": "execute_result"
    }
   ],
   "source": [
    "data.describe()"
   ]
  },
  {
   "cell_type": "code",
   "execution_count": 51,
   "metadata": {},
   "outputs": [
    {
     "name": "stdout",
     "output_type": "stream",
     "text": [
      "<class 'pandas.core.frame.DataFrame'>\n",
      "RangeIndex: 1000 entries, 0 to 999\n",
      "Data columns (total 9 columns):\n",
      " #   Column                       Non-Null Count  Dtype  \n",
      "---  ------                       --------------  -----  \n",
      " 0   gender                       1000 non-null   object \n",
      " 1   race/ethnicity               1000 non-null   object \n",
      " 2   parental level of education  1000 non-null   object \n",
      " 3   lunch                        1000 non-null   object \n",
      " 4   test preparation course      1000 non-null   object \n",
      " 5   math score                   1000 non-null   int64  \n",
      " 6   reading score                1000 non-null   int64  \n",
      " 7   writing score                1000 non-null   int64  \n",
      " 8   combined_score               1000 non-null   float64\n",
      "dtypes: float64(1), int64(3), object(5)\n",
      "memory usage: 70.4+ KB\n"
     ]
    }
   ],
   "source": [
    "data.info()"
   ]
  },
  {
   "cell_type": "code",
   "execution_count": 42,
   "metadata": {},
   "outputs": [
    {
     "data": {
      "text/plain": [
       "gender\n",
       "female    518\n",
       "male      482\n",
       "Name: count, dtype: int64"
      ]
     },
     "execution_count": 42,
     "metadata": {},
     "output_type": "execute_result"
    }
   ],
   "source": [
    "data.gender.value_counts()"
   ]
  },
  {
   "cell_type": "code",
   "execution_count": 41,
   "metadata": {},
   "outputs": [
    {
     "name": "stdout",
     "output_type": "stream",
     "text": [
      "gender\n",
      "female    518\n",
      "male      482\n",
      "Name: count, dtype: int64\n",
      "race/ethnicity\n",
      "group C    319\n",
      "group D    262\n",
      "group B    190\n",
      "group E    140\n",
      "group A     89\n",
      "Name: count, dtype: int64\n",
      "parental level of education\n",
      "some college          226\n",
      "associate's degree    222\n",
      "high school           196\n",
      "some high school      179\n",
      "bachelor's degree     118\n",
      "master's degree        59\n",
      "Name: count, dtype: int64\n",
      "lunch\n",
      "standard        645\n",
      "free/reduced    355\n",
      "Name: count, dtype: int64\n",
      "test preparation course\n",
      "none         642\n",
      "completed    358\n",
      "Name: count, dtype: int64\n",
      "math score\n",
      "65    36\n",
      "62    35\n",
      "69    32\n",
      "59    32\n",
      "61    27\n",
      "      ..\n",
      "24     1\n",
      "28     1\n",
      "33     1\n",
      "18     1\n",
      "8      1\n",
      "Name: count, Length: 81, dtype: int64\n",
      "reading score\n",
      "72    34\n",
      "74    33\n",
      "64    32\n",
      "67    30\n",
      "73    30\n",
      "      ..\n",
      "28     1\n",
      "26     1\n",
      "17     1\n",
      "32     1\n",
      "40     1\n",
      "Name: count, Length: 72, dtype: int64\n",
      "writing score\n",
      "74    35\n",
      "70    33\n",
      "68    31\n",
      "73    28\n",
      "80    27\n",
      "      ..\n",
      "28     1\n",
      "35     1\n",
      "19     1\n",
      "22     1\n",
      "23     1\n",
      "Name: count, Length: 77, dtype: int64\n"
     ]
    }
   ],
   "source": [
    "for col in data.columns:\n",
    "    print(data[col].value_counts())"
   ]
  },
  {
   "cell_type": "markdown",
   "metadata": {},
   "source": [
    "# --------------QUESTIONS-------------#\n",
    "1. Do certain ethnic groups score higher on average?\n",
    "2. Do certain groups score higher in particular subjects?"
   ]
  },
  {
   "cell_type": "code",
   "execution_count": 65,
   "metadata": {},
   "outputs": [
    {
     "name": "stdout",
     "output_type": "stream",
     "text": [
      "race/ethnicity    group A    group B    group C    group D    group E\n",
      "combined_score  62.992509  65.468421  67.131661  69.179389  72.752381\n",
      "math score      61.629213  63.452632  64.463950  67.362595  73.821429\n",
      "reading score   64.674157  67.352632  69.103448  70.030534  73.028571\n",
      "writing score   62.674157  65.600000  67.827586  70.145038  71.407143\n",
      "               combined_score                                              \\\n",
      "race/ethnicity        group A    group B    group C    group D    group E   \n",
      "gender                                                                      \n",
      "female              65.129630  67.509615  68.585185  71.439276  74.062802   \n",
      "male                61.540881  63.000000  65.249400  66.987469  71.478873   \n",
      "\n",
      "               math score                                              \\\n",
      "race/ethnicity    group A    group B    group C    group D    group E   \n",
      "gender                                                                  \n",
      "female          58.527778  61.403846  62.033333  65.248062  70.811594   \n",
      "male            63.735849  65.930233  67.611511  69.413534  76.746479   \n",
      "\n",
      "               reading score                                              \\\n",
      "race/ethnicity       group A    group B    group C    group D    group E   \n",
      "gender                                                                     \n",
      "female             69.000000  71.076923  71.944444  74.046512  75.840580   \n",
      "male               61.735849  62.848837  65.424460  66.135338  70.295775   \n",
      "\n",
      "               writing score                                              \n",
      "race/ethnicity       group A    group B    group C    group D    group E  \n",
      "gender                                                                    \n",
      "female             67.861111  70.048077  71.777778  75.023256  75.536232  \n",
      "male               59.150943  60.220930  62.712230  65.413534  67.394366  \n"
     ]
    }
   ],
   "source": [
    "# Examining scores based on assigned race/ethnicity\n",
    "# Creating cummulative score\n",
    "data[\"combined_score\"] = (data['reading score'] + data['writing score'] + data['math score'])/3\n",
    "\n",
    "gender_ethinicity_scores = pd.pivot_table(data, values=['math score', 'reading score', 'writing score', 'combined_score'], index=['gender'],\n",
    "                       columns=['race/ethnicity'], aggfunc=\"mean\")\n",
    "\n",
    "ethnicity_scores = pd.pivot_table(data, values=['math score', 'reading score', 'writing score', 'combined_score'], index=None,\n",
    "                       columns=['race/ethnicity'], aggfunc=\"mean\")\n",
    "\n",
    "print(ethnicity_scores)\n",
    "print(gender_ethinicity_scores)"
   ]
  },
  {
   "cell_type": "code",
   "execution_count": 60,
   "metadata": {},
   "outputs": [
    {
     "name": "stdout",
     "output_type": "stream",
     "text": [
      "                             combined_score\n",
      "parental level of education                \n",
      "master's degree                   73.598870\n",
      "bachelor's degree                 71.923729\n",
      "associate's degree                69.569069\n",
      "some college                      68.476401\n",
      "some high school                  65.108007\n",
      "high school                       63.096939\n"
     ]
    }
   ],
   "source": [
    "scores_by_education = pd.pivot_table(data, values=['combined_score'], index='parental level of education',\n",
    "                       columns=None, aggfunc=\"mean\")\n",
    "\n",
    "print(scores_by_education.sort_values(by='combined_score', ascending=False))"
   ]
  },
  {
   "cell_type": "markdown",
   "metadata": {},
   "source": [
    "# --------------QUESTIONS-------------#\n",
    "1. How many degrees are held in each category by each ethnic group"
   ]
  },
  {
   "cell_type": "code",
   "execution_count": 69,
   "metadata": {},
   "outputs": [
    {
     "name": "stdout",
     "output_type": "stream",
     "text": [
      "                            combined_score                                   \\\n",
      "race/ethnicity                     group A    group B    group C    group D   \n",
      "parental level of education                                                   \n",
      "associate's degree               63.880952  67.975610  69.376068  69.333333   \n",
      "bachelor's degree                67.861111  71.300000  73.241667  69.869048   \n",
      "high school                      61.277778  61.500000  62.328125  63.477273   \n",
      "master's degree                  63.333333  74.833333  69.035088  76.478261   \n",
      "some college                     64.888889  64.378378  67.806763  70.437811   \n",
      "some high school                 59.861111  64.289474  63.156463  68.613333   \n",
      "\n",
      "                                        \n",
      "race/ethnicity                 group E  \n",
      "parental level of education             \n",
      "associate's degree           73.974359  \n",
      "bachelor's degree            75.592593  \n",
      "high school                  69.545455  \n",
      "master's degree              79.083333  \n",
      "some college                 72.219048  \n",
      "some high school             69.407407  \n",
      "                            combined_score                                \n",
      "race/ethnicity                     group A group B group C group D group E\n",
      "parental level of education                                               \n",
      "associate's degree                      14      41      78      50      39\n",
      "bachelor's degree                       12      20      40      28      18\n",
      "high school                             18      48      64      44      22\n",
      "master's degree                          3       6      19      23       8\n",
      "some college                            18      37      69      67      35\n",
      "some high school                        24      38      49      50      18\n"
     ]
    }
   ],
   "source": [
    "scores_by_education_ethnicity = pd.pivot_table(data, values=['combined_score'], index=['parental level of education'],\n",
    "                       columns=['race/ethnicity'], aggfunc=\"mean\")\n",
    "\n",
    "scores_by_education_ethnicity_count = pd.pivot_table(data, values=['combined_score'], index=['parental level of education'],\n",
    "                       columns=['race/ethnicity'], aggfunc=\"count\")\n",
    "\n",
    "print(scores_by_education_ethnicity)\n",
    "print(scores_by_education_ethnicity_count)\n",
    "\n"
   ]
  },
  {
   "cell_type": "markdown",
   "metadata": {},
   "source": [
    "Step 2: Partitioning of Data"
   ]
  },
  {
   "cell_type": "markdown",
   "metadata": {},
   "source": [
    "Step 3: Analysis of Data"
   ]
  }
 ],
 "metadata": {
  "kernelspec": {
   "display_name": "Python 3",
   "language": "python",
   "name": "python3"
  },
  "language_info": {
   "codemirror_mode": {
    "name": "ipython",
    "version": 3
   },
   "file_extension": ".py",
   "mimetype": "text/x-python",
   "name": "python",
   "nbconvert_exporter": "python",
   "pygments_lexer": "ipython3",
   "version": "3.12.1"
  }
 },
 "nbformat": 4,
 "nbformat_minor": 2
}
